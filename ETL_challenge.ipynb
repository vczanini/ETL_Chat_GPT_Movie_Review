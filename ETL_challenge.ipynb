{
 "cells": [
  {
   "cell_type": "markdown",
   "metadata": {},
   "source": [
    "# Writing Movie Reviews Using ChatGPT"
   ]
  },
  {
   "cell_type": "markdown",
   "metadata": {},
   "source": [
    "This project has the goal of developing and shows my abilities of ETL getting movies from a database created by me, using OpenAI API to write a review about the movie and loading the review in the database.\n",
    "For this project we will be using a csv file, not a Json API for the dataset."
   ]
  },
  {
   "cell_type": "markdown",
   "metadata": {},
   "source": [
    "## Extract"
   ]
  },
  {
   "cell_type": "code",
   "execution_count": 24,
   "metadata": {},
   "outputs": [],
   "source": [
    "import pandas as pd"
   ]
  },
  {
   "cell_type": "code",
   "execution_count": 25,
   "metadata": {},
   "outputs": [],
   "source": [
    "df = pd.read_csv(\"Movies.csv\")"
   ]
  },
  {
   "cell_type": "code",
   "execution_count": 26,
   "metadata": {},
   "outputs": [
    {
     "data": {
      "text/html": [
       "<div>\n",
       "<style scoped>\n",
       "    .dataframe tbody tr th:only-of-type {\n",
       "        vertical-align: middle;\n",
       "    }\n",
       "\n",
       "    .dataframe tbody tr th {\n",
       "        vertical-align: top;\n",
       "    }\n",
       "\n",
       "    .dataframe thead th {\n",
       "        text-align: right;\n",
       "    }\n",
       "</style>\n",
       "<table border=\"1\" class=\"dataframe\">\n",
       "  <thead>\n",
       "    <tr style=\"text-align: right;\">\n",
       "      <th></th>\n",
       "      <th>Movie</th>\n",
       "    </tr>\n",
       "    <tr>\n",
       "      <th>ID</th>\n",
       "      <th></th>\n",
       "    </tr>\n",
       "  </thead>\n",
       "  <tbody>\n",
       "    <tr>\n",
       "      <th>0</th>\n",
       "      <td>Le Trou</td>\n",
       "    </tr>\n",
       "    <tr>\n",
       "      <th>1</th>\n",
       "      <td>Through a Glass Darkly</td>\n",
       "    </tr>\n",
       "    <tr>\n",
       "      <th>2</th>\n",
       "      <td>O Pagador de Promessas</td>\n",
       "    </tr>\n",
       "  </tbody>\n",
       "</table>\n",
       "</div>"
      ],
      "text/plain": [
       "                     Movie\n",
       "ID                        \n",
       "0                  Le Trou\n",
       "1   Through a Glass Darkly\n",
       "2   O Pagador de Promessas"
      ]
     },
     "execution_count": 26,
     "metadata": {},
     "output_type": "execute_result"
    }
   ],
   "source": [
    "df.head()"
   ]
  },
  {
   "cell_type": "markdown",
   "metadata": {},
   "source": [
    "## Transform"
   ]
  },
  {
   "cell_type": "code",
   "execution_count": 27,
   "metadata": {},
   "outputs": [],
   "source": [
    "import openai"
   ]
  },
  {
   "cell_type": "code",
   "execution_count": 28,
   "metadata": {},
   "outputs": [],
   "source": [
    "openai_key = \"Put_your_openai_key_here\"\n",
    "openai.api_key = openai_key"
   ]
  },
  {
   "cell_type": "code",
   "execution_count": 30,
   "metadata": {},
   "outputs": [],
   "source": [
    "def generate_ai_review(movie):\n",
    "    completion = openai.ChatCompletion.create(\n",
    "        model = \"gpt-3.5-turbo\",\n",
    "        messages = [\n",
    "            {\n",
    "                \"role\": \"system\",\n",
    "                \"content\": \"A movie critic specialist\"\n",
    "            },\n",
    "            {\n",
    "                \"role\": \"user\",\n",
    "                \"content\": f\"Create a review for the movie {movie} summarizing the most important topics\"\n",
    "            }\n",
    "        ]\n",
    "    )\n",
    "    return completion.choices[0].message.content.strip('\\\"')"
   ]
  },
  {
   "cell_type": "code",
   "execution_count": 31,
   "metadata": {},
   "outputs": [
    {
     "name": "stdout",
     "output_type": "stream",
     "text": [
      "Title: Le Trou: A Riveting and Intensely Realistic Prison Drama\n",
      "\n",
      "Introduction:\n",
      "Le Trou, a French prison drama directed by Jacques Becker, is a masterful exploration of loyalty, friendship, and the human spirit. Based on a true story, the film follows a group of inmates as they meticulously plan a daring escape from their seemingly impenetrable prison. Engaging from start to finish, Le Trou stands as a remarkable example of how a simple story, brought to life with exceptional performances and meticulous attention to detail, can leave a lasting impact on its viewers.\n",
      "\n",
      "1. Realism and Authenticity:\n",
      "One of Le Trou's greatest strengths lies in its unwavering commitment to depicting the harsh realities of prison life. Director Jacques Becker captures the gritty atmosphere through a documentary-like approach, opting for minimalistic sets, natural lighting, and non-professional actors. The film's authenticity draws viewers into the claustrophobic world of incarceration, allowing them to empathize with the characters' struggles and anxieties.\n",
      "\n",
      "2. Character Development and Camaraderie:\n",
      "Le Trou excels in its portrayal of complex and relatable characters. Each inmate brings a unique personality and backstory to the narrative, making it easy for audiences to emotionally invest in their fates. As the inmates collaborate in their escape plans, their camaraderie and shared sense of purpose become increasingly evident. The deep bond that forms among them adds a layer of humanity amidst their bleak circumstances, enhancing the film's emotional resonance.\n",
      "\n",
      "3. Tension and Suspense:\n",
      "The planning and execution of the prison break serve as the film's primary source of tension. Jacques Becker masterfully builds suspense by meticulously detailing the steps involved in the escape, leaving viewers on the edge of their seats. Through the use of long, uninterrupted shots and minimal dialogue, the audience is deeply immersed in the exhilarating and nerve-wracking process. This attention to detail and the palpable tension make Le Trou an absorbing and riveting experience.\n",
      "\n",
      "4. Themes of Redemption and Fate:\n",
      "Le Trou explores themes of redemption and the role of destiny in the characters' lives. As the inmates draw closer to their escape attempt, their past mistakes and regrets resurface, forcing them to confront the consequences of their actions. Despite the seemingly insurmountable odds stacked against them, the film maintains a pervasive sense of hope and resilience. It subtly questions whether individuals have control over their own fate or if circumstances dictate their path.\n",
      "\n",
      "Conclusion:\n",
      "Le Trou is a gripping masterpiece that delves deep into the human psyche, challenging viewers to contemplate the moral complexities of prison life. Directed with precision and finesse, Jacques Becker's film expertly balances realism, character development, tension, and themes of redemption. Le Trou immerses its audience in the unforgiving world of incarceration while showcasing the indomitable spirit of its characters. This timeless cinematic gem is a must-watch for enthusiasts of thought-provoking prison dramas.\n",
      "Through a Glass Darkly is a remarkable film directed by Ingmar Bergman that delves deep into the complexities of the human psyche and the fragile nature of familial relationships. Set on a remote island, the story revolves around Karin, a young woman suffering from mental illness, her concerned father David, her emotionally distant husband Martin, and her teenage brother Minus.\n",
      "\n",
      "One of the most important topics explored in Through a Glass Darkly is the nature of mental illness and its impact on both the individual and those around them. Bergman skillfully portrays the inner turmoil of Karin, displaying her hallucinations, paranoid thoughts, and intense fear. The film challenges the audience to confront the often uncomfortable truth that mental illness can shatter not only the sufferer's life but also the lives of their loved ones.\n",
      "\n",
      "The portrayal of familial relationships is another pivotal topic in this movie. The strained dynamic between Karin and her family members speaks to the universal struggle of understanding and connecting with one's own flesh and blood. Bergman masterfully captures the nuances of these relationships, showing the frustration, love, and inherent inability to truly comprehend one another. Through a Glass Darkly forces the viewer to question the boundaries of support and empathy within a family unit.\n",
      "\n",
      "Existential themes are also prevalent in the film. Bergman explores the search for meaning in a seemingly godless world, delving into the characters' existential crises and their desperate yearning for connection and purpose. The isolated island setting serves as a metaphor for the characters' sense of isolation and detachment, emphasizing their existential angst.\n",
      "\n",
      "Lastly, the film delves into the complex themes of sexuality and desire. Through various interactions between the characters, including Karin's ambiguous relationship with her brother Minus, Bergman challenges societal norms and conventions surrounding sexuality. These scenes are thought-provoking and provoke a deeper exploration of the characters' motivations and emotional complexities.\n",
      "\n",
      "Through a Glass Darkly is a masterpiece that delves into some of the most significant and profound aspects of the human experience. With stunning performances, intelligent filmmaking, and profound subject matter, it is a film that will leave viewers contemplating its themes long after the credits roll.\n",
      "Review: O Pagador de Promessas (The Payer of Promises) captivates with its powerful portrayal of faith, sacrifice, and social injustice. Directed by Anselmo Duarte, this Brazilian film adaptation of the renowned play by Dias Gomes does justice to its source material and delivers a thought-provoking experience.\n",
      "\n",
      "The story revolves around Zé do Burro, a humble farmer from rural Brazil, played magnificently by Leonardo Villar. After his cherished donkey is injured, Zé makes a promise to carry a heavy cross from his remote village to the Candomblé temple in Salvador in exchange for his donkey's recovery. As he embarks on this arduous journey, he becomes a symbol of religious devotion and unwavering determination.\n",
      "\n",
      "One of the most significant themes explored in O Pagador de Promessas is the clash between religious traditions and the oppressive societal norms of the time. Zé's commitment to fulfilling his promise challenges the rigid Catholic church and exposes the hypocrisy, prejudice, and corruption that pervade society. The film delves deeper into the complexities of religious fanaticism, demonstrating how blind devotion can clash with institutionalized religion.\n",
      "\n",
      "Duarte's masterful direction breathes life into the characters, providing an intimate and immersive experience. The film's pacing is deliberate, allowing the viewer to contemplate the deeper moral and social issues presented. The use of long takes and a minimalist set design enhances the emotional impact, keeping the focus on the characters' struggles and motivations.\n",
      "\n",
      "The performances in O Pagador de Promessas are exceptional across the board. Villar's portrayal of Zé exudes both vulnerability and strength, and his unwavering dedication to his promise is both inspiring and tragic. Geraldo Del Rey shines as the intellectual journalist and rare voice of reason, embodying the struggle between progress and the status quo.\n",
      "\n",
      "The cinematography by H.E. Fowle is breathtaking, showcasing the beauty of the Brazilian landscape while also capturing the societal tensions of the time. The stunning black and white imagery adds a timeless quality to the film, allowing the story's themes to resonate beyond its specific time and place.\n",
      "\n",
      "O Pagador de Promessas is a film that forces viewers to confront their own beliefs and biases. It invites reflection on themes of religion, social inequality, and the power of the individual to challenge the status quo. Although rooted in a specific cultural context, the film's message is universal and continues to resonate with audiences to this day.\n",
      "\n",
      "In conclusion, O Pagador de Promessas is a cinematic masterpiece that combines powerful storytelling, stellar performances, and thought-provoking themes. It is an essential watch for cinephiles interested in exploring the intersection of faith, social justice, and the human spirit.\n"
     ]
    }
   ],
   "source": [
    "df['review'] = ''\n",
    "for index, movie in enumerate(df['Movie']):\n",
    "    reviews = generate_ai_review(movie)\n",
    "    print(reviews)\n",
    "    df['review'][index] = reviews"
   ]
  },
  {
   "cell_type": "markdown",
   "metadata": {},
   "source": [
    "## Loading"
   ]
  },
  {
   "cell_type": "markdown",
   "metadata": {},
   "source": [
    "Here, we update the local files with the reviews"
   ]
  },
  {
   "cell_type": "code",
   "execution_count": 32,
   "metadata": {},
   "outputs": [],
   "source": [
    "df.to_csv('Movies.csv', index=False)"
   ]
  }
 ],
 "metadata": {
  "kernelspec": {
   "display_name": "base",
   "language": "python",
   "name": "python3"
  },
  "language_info": {
   "codemirror_mode": {
    "name": "ipython",
    "version": 3
   },
   "file_extension": ".py",
   "mimetype": "text/x-python",
   "name": "python",
   "nbconvert_exporter": "python",
   "pygments_lexer": "ipython3",
   "version": "3.11.3"
  },
  "orig_nbformat": 4
 },
 "nbformat": 4,
 "nbformat_minor": 2
}
